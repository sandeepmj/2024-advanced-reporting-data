{
  "cells": [
    {
      "cell_type": "markdown",
      "source": [
        "# Homework for Week 3\n",
        "\n",
        "The goal for this homework is to see the relevant journalistic uses for what we learned in class in week 2.\n",
        "\n",
        "1. access specific data within a dataset,\n",
        "2. break down larger datasets into smaller chunks (subset),\n",
        "3. Ingest different types of spreadsheets into Pandas,\n",
        "4. Gather general info about our dataframes"
      ],
      "metadata": {
        "id": "Qim5YnoxEywd"
      },
      "id": "Qim5YnoxEywd"
    },
    {
      "cell_type": "markdown",
      "metadata": {
        "id": "J2Mf4b3sPvLg"
      },
      "source": [
        "# List Slicing\n",
        "## Natural disasters list\n",
        "\n",
        "The Small Business Administration has a list of natural disasters that cause extensive economic damage. Run the next cell to pull the list into memory"
      ],
      "id": "J2Mf4b3sPvLg"
    },
    {
      "cell_type": "code",
      "execution_count": null,
      "metadata": {
        "id": "lk8GeCDvPvLg"
      },
      "outputs": [],
      "source": [
        "disasters = [\n",
        "        \"Landslides\",\n",
        "        \"Earthquake\",\n",
        "        \"Wildfires\",\n",
        "        \"Tornadoes\",\n",
        "        \"Hurricane\",\n",
        "        \"Wind Storm\",\n",
        "        \"Winter Freeze\",\n",
        "        \"Ice Storm\",\n",
        "        \"Drought\",\n",
        "        \"Tsunami\",\n",
        "        \"Flash floods\",\n",
        "        \"Mudslides\",\n",
        "        \"Torrential rainfall\",\n",
        "        \"Riverine floods\",\n",
        "        \"Tidal Surge\"\n",
        "         ]"
      ],
      "id": "lk8GeCDvPvLg"
    },
    {
      "cell_type": "code",
      "execution_count": null,
      "metadata": {
        "id": "AJE4jVfQPvLh"
      },
      "outputs": [],
      "source": [
        "## call the disaster list here\n"
      ],
      "id": "AJE4jVfQPvLh"
    },
    {
      "cell_type": "code",
      "execution_count": null,
      "metadata": {
        "id": "EvzyETnYPvLh"
      },
      "outputs": [],
      "source": [
        "## the first item in the list\n"
      ],
      "id": "EvzyETnYPvLh"
    },
    {
      "cell_type": "code",
      "execution_count": null,
      "metadata": {
        "id": "bOz8lgDCPvLh"
      },
      "outputs": [],
      "source": [
        "## call the penultimate item (without manually counting the number of items)\n"
      ],
      "id": "bOz8lgDCPvLh"
    },
    {
      "cell_type": "markdown",
      "metadata": {
        "id": "8wWZaDxpPvLh"
      },
      "source": [
        "### Clarification:\n",
        "\n",
        "For the next two questions, I am referring to numerical positions rather than zero-indexed positions. In other words, you will have to translate the numerical position into zero-indexed positions in your slicing."
      ],
      "id": "8wWZaDxpPvLh"
    },
    {
      "cell_type": "code",
      "execution_count": null,
      "metadata": {
        "id": "mN1kYkmcPvLh"
      },
      "outputs": [],
      "source": [
        "## create a new list called disasters_subset that holds the 3rd to 6th items inclusive\n"
      ],
      "id": "mN1kYkmcPvLh"
    },
    {
      "cell_type": "code",
      "execution_count": null,
      "metadata": {
        "id": "IyWaWlfuPvLh"
      },
      "outputs": [],
      "source": [
        "## create a new list called disasters_subset2 that holds the 2nd through 8th items\n"
      ],
      "id": "IyWaWlfuPvLh"
    },
    {
      "cell_type": "markdown",
      "id": "1d64966a",
      "metadata": {
        "id": "1d64966a"
      },
      "source": [
        "## Pandas - Importing data\n",
        "\n",
        "Please download from Google Drive the following data and then upload it into this notebook:\n",
        "\n",
        "- <a href=\"https://drive.google.com/file/d/1CHCTy_zUBTFcbhXJvk3xbRWS9BUYNgM8/view?usp=sharing\">EMS excerpt</a>,\n",
        "\n",
        "- <a href=\"https://docs.google.com/spreadsheets/d/1H2sPu9RRsPI-RIVYWRY__Yr5HBLgLp36/edit?usp=sharing&rtpof=true&sd=true\">Customs, Border Patrol</a>\n",
        "\n",
        "**Give yourself time to download it. Some of the files are large!**"
      ]
    },
    {
      "cell_type": "code",
      "execution_count": null,
      "id": "e8c6fb4b",
      "metadata": {
        "id": "e8c6fb4b"
      },
      "outputs": [],
      "source": [
        "## import the pandas library in this cell\n",
        "\n"
      ]
    },
    {
      "cell_type": "markdown",
      "id": "415d55dd",
      "metadata": {
        "id": "415d55dd"
      },
      "source": [
        "### Ingest the following dataset into this note:\n",
        "\n",
        "- ```ems20_1st_6months_excerpt.csv``` into a dataframe named ```ems2020_excerpt_df```"
      ]
    },
    {
      "cell_type": "code",
      "execution_count": null,
      "id": "2609f6fb",
      "metadata": {
        "id": "2609f6fb"
      },
      "outputs": [],
      "source": [
        "## import data and store in dataframe\n"
      ]
    },
    {
      "cell_type": "code",
      "execution_count": null,
      "id": "ec3cb6b2",
      "metadata": {
        "id": "ec3cb6b2"
      },
      "outputs": [],
      "source": [
        "## call the first 10 rows\n"
      ]
    },
    {
      "cell_type": "code",
      "execution_count": null,
      "id": "fb59614c",
      "metadata": {
        "id": "fb59614c"
      },
      "outputs": [],
      "source": [
        "## call the last 5 rows\n"
      ]
    },
    {
      "cell_type": "code",
      "execution_count": null,
      "id": "0953ae2d",
      "metadata": {
        "id": "0953ae2d"
      },
      "outputs": [],
      "source": [
        "## call a 20 random rows\n"
      ]
    },
    {
      "cell_type": "code",
      "source": [
        "## how might you slice this df to show only rows 42 through 51 inclusive\n"
      ],
      "metadata": {
        "id": "7Vyl0p7YHU_D"
      },
      "id": "7Vyl0p7YHU_D",
      "execution_count": null,
      "outputs": []
    },
    {
      "cell_type": "code",
      "source": [
        "## store rows 42 through 51 inclusive into a df called df_excerpt\n"
      ],
      "metadata": {
        "id": "kUfizScRIMms"
      },
      "id": "kUfizScRIMms",
      "execution_count": null,
      "outputs": []
    },
    {
      "cell_type": "code",
      "execution_count": null,
      "id": "68c744d9",
      "metadata": {
        "id": "68c744d9"
      },
      "outputs": [],
      "source": [
        "## get basic overview of the data\n",
        "## what datatypes do the different columns hold?\n",
        "## how many rows and columns are there\n",
        "\n"
      ]
    },
    {
      "cell_type": "markdown",
      "id": "e5f37584",
      "metadata": {
        "id": "e5f37584"
      },
      "source": [
        "## Targeting an Excel sheet\n",
        "\n",
        "We need the Customs and Border Protection data in this ```multi-data.xlsx``` workbook."
      ]
    },
    {
      "cell_type": "code",
      "execution_count": null,
      "id": "51a1ee71",
      "metadata": {
        "id": "51a1ee71"
      },
      "outputs": [],
      "source": [
        "## import data here\n"
      ]
    },
    {
      "cell_type": "code",
      "execution_count": null,
      "id": "8885c25d",
      "metadata": {
        "id": "8885c25d"
      },
      "outputs": [],
      "source": [
        "## call the top 15 rows\n",
        "\n"
      ]
    }
  ],
  "metadata": {
    "kernelspec": {
      "display_name": "Python 3 (ipykernel)",
      "language": "python",
      "name": "python3"
    },
    "language_info": {
      "codemirror_mode": {
        "name": "ipython",
        "version": 3
      },
      "file_extension": ".py",
      "mimetype": "text/x-python",
      "name": "python",
      "nbconvert_exporter": "python",
      "pygments_lexer": "ipython3",
      "version": "3.9.7"
    },
    "colab": {
      "provenance": []
    }
  },
  "nbformat": 4,
  "nbformat_minor": 5
}