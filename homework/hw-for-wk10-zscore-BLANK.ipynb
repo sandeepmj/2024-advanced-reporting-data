{
 "cells": [
  {
   "cell_type": "markdown",
   "id": "f2616399",
   "metadata": {},
   "source": [
    "# Music Sales across Decades\n",
    "\n",
    "- <a href=\"https://raw.githubusercontent.com/sandeepmj/datasets/main/1967_hits.csv\">Most sold LPs</a> in 1967.\n",
    "- <a href=\"https://raw.githubusercontent.com/sandeepmj/datasets/main/most-streamed-2023.csv\">Most streamed albums</a> in 2023.\n",
    "\n",
    "Which albums stood out (AS IN THE BIGGEST)in terms of sales?"
   ]
  }
 ],
 "metadata": {
  "kernelspec": {
   "display_name": "Python 3 (ipykernel)",
   "language": "python",
   "name": "python3"
  },
  "language_info": {
   "codemirror_mode": {
    "name": "ipython",
    "version": 3
   },
   "file_extension": ".py",
   "mimetype": "text/x-python",
   "name": "python",
   "nbconvert_exporter": "python",
   "pygments_lexer": "ipython3",
   "version": "3.9.7"
  }
 },
 "nbformat": 4,
 "nbformat_minor": 5
}
