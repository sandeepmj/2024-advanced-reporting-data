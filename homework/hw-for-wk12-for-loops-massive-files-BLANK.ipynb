{
  "cells": [
    {
      "cell_type": "markdown",
      "id": "787940fd",
      "metadata": {
        "id": "787940fd"
      },
      "source": [
        "#### Bridge inspections\n",
        "\n",
        "The U.S. Department of Transportation's Federal Highway Administration annually releases a report that lists the conditions of all bridges across the country. Here's the 2023 report that has <a href=\"https://raw.githubusercontent.com/sandeepmj/datasets/main/bridge-conditions-2023.csv\">over 730,000 rows of data</a>.\n",
        "\n",
        "The reality is that Pandas can easily handle a file this size but for this exercise I still want you to chunk it out.\n",
        "\n",
        "Your goal is to:\n",
        "\n",
        "1. Import the file in chunks of 100,000 rows\n",
        "2. Analyze the data of the bridge's condition for its superstructure:\n",
        "<img src=\"https://sandeepmj.github.io/image-host/bridge-anatomy.png\" width=\"300\">\n",
        "\n",
        "3. Create a subset dataframe that holds only the \"poor\", \"serious\", \"critical\", \"imminent failure\" conditions:\n",
        "<img src=\"https://sandeepmj.github.io/image-host/bridge-conditions.png\" width=\"600\">\n"
      ]
    },
    {
      "cell_type": "code",
      "execution_count": null,
      "id": "0ac3bbf8",
      "metadata": {
        "id": "0ac3bbf8"
      },
      "outputs": [],
      "source": [
        "## create more cells as necessary"
      ]
    },
    {
      "cell_type": "markdown",
      "id": "71194aaf",
      "metadata": {
        "id": "71194aaf"
      },
      "source": [
        "4. Create a subset dataframe that holds all bridges with piers that are either:\n",
        "- in deteriorating conditions,\n",
        "- where a redesign is suggested,\n",
        "- a pier is not present but a reevaluation is suggested.\n",
        "\n",
        "Here's the data key:\n",
        "\n",
        "<img src=\"https://sandeepmj.github.io/image-host/bridge-pier-protection.png\" width=\"600\">"
      ]
    },
    {
      "cell_type": "code",
      "execution_count": null,
      "id": "6f793375",
      "metadata": {
        "id": "6f793375"
      },
      "outputs": [],
      "source": [
        "## create more cells as necessary"
      ]
    }
  ],
  "metadata": {
    "kernelspec": {
      "display_name": "Python 3 (ipykernel)",
      "language": "python",
      "name": "python3"
    },
    "language_info": {
      "codemirror_mode": {
        "name": "ipython",
        "version": 3
      },
      "file_extension": ".py",
      "mimetype": "text/x-python",
      "name": "python",
      "nbconvert_exporter": "python",
      "pygments_lexer": "ipython3",
      "version": "3.9.7"
    },
    "colab": {
      "provenance": []
    }
  },
  "nbformat": 4,
  "nbformat_minor": 5
}