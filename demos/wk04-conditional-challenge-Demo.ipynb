{
 "cells": [
  {
   "cell_type": "markdown",
   "id": "8e4b29fd",
   "metadata": {},
   "source": [
    "# Conditional Challenge\n",
    "\n",
    "You are on the justice beat in some large city. The police department release weekly arrest numbers every Monday.\n",
    "\n",
    "You decide to use your Python superpowers to write a script that automatically:\n",
    "\n",
    "1. looks at the new weekly number,\n",
    "2. compares it to the previous week's number,\n",
    "3. spits out a sentence saying whether the arrest increased or decreased,\n",
    "4. and by what percent and absolute number.\n",
    "\n",
    "Depending on the numbers, it should read something like:\n",
    "\n",
    "```The number of arrests dropped by 40, or by 51 percent, compared to the previous week.```\n",
    "\n",
    "or:\n",
    "\n",
    "```The number of arrests increased by 22, or by 129 percent, compared to the previous week.```\n",
    "\n",
    "\n",
    "\n",
    "You may work in pairs, but **everyone must write their own script**."
   ]
  },
  {
   "cell_type": "markdown",
   "id": "a0720d96",
   "metadata": {},
   "source": [
    "## Creating our mock data\n",
    "\n",
    "The following cells will create random numbers and place them in a list.\n",
    "\n",
    "You will be asked for a \"```seed```\" number which basically allows us to all create the same \"random\" numbers. \n",
    "\n",
    "You'll be asked for a seed twice: once for the longer arrests dataset, and once for the most recent week's arrest number.\n",
    "\n",
    "Just run these next few cells:"
   ]
  },
  {
   "cell_type": "code",
   "execution_count": 2,
   "id": "8955b266",
   "metadata": {},
   "outputs": [],
   "source": [
    "## import random to create random numbers\n",
    "import random"
   ]
  },
  {
   "cell_type": "code",
   "execution_count": 7,
   "id": "137e14b4",
   "metadata": {},
   "outputs": [
    {
     "name": "stdout",
     "output_type": "stream",
     "text": [
      "Enter a seed number (make sure it is the same one as the entire classroom) 42\n"
     ]
    }
   ],
   "source": [
    "## ask for a seed number to keep all the random numbers the same for all of us\n",
    "seed_number =\\\n",
    "input(\"Enter a seed number (make sure it is the same one as the entire classroom) \")"
   ]
  },
  {
   "cell_type": "code",
   "execution_count": 8,
   "id": "aae52c01",
   "metadata": {},
   "outputs": [
    {
     "name": "stdout",
     "output_type": "stream",
     "text": [
      "[61, 59, 82, 37, 13, 8, 14, 78, 59, 18, 25, 58, 38, 58, 26, 31, 37, 34, 90, 42]\n"
     ]
    }
   ],
   "source": [
    "# Set the seed to ensure repeatability\n",
    "random.seed(seed_number)  \n",
    "\n",
    "# Generate a list of 20 random numbers (for example, between 1 and 100)\n",
    "arrest_dataset = [random.randint(1, 100) for _ in range(20)]\n",
    "\n",
    "print(arrest_dataset)\n",
    "\n",
    "## NOTE: The last number in the list is the most recent week."
   ]
  },
  {
   "cell_type": "code",
   "execution_count": 9,
   "id": "b072b7d3",
   "metadata": {},
   "outputs": [
    {
     "name": "stdout",
     "output_type": "stream",
     "text": [
      "Enter a seed number (make sure it is the same one as the entire classroom) 99\n",
      "[61, 59, 82, 37, 13, 8, 14, 78, 59, 18, 25, 58, 38, 58, 26, 31, 37, 34, 90, 42, 90]\n"
     ]
    }
   ],
   "source": [
    "## Now generate a single arrest number for the most recent week\n",
    "## APPEND it to the previous list\n",
    "\n",
    "## ask for a seed number to keep all the random numbers the same for all of us\n",
    "weekly_seed =\\\n",
    "input(\"Enter a seed number (make sure it is the same one as the entire classroom) \")\n",
    "\n",
    "random.seed(weekly_seed)  # You can use any number as the seed\n",
    "\n",
    "# Generate a single random number (for example, between 1 and 100)\n",
    "weekly_arrest_number = random.randint(1, 100)\n",
    "\n",
    "arrest_dataset.append(weekly_arrest_number)\n",
    "print(arrest_dataset)"
   ]
  },
  {
   "cell_type": "markdown",
   "id": "6e651f74",
   "metadata": {},
   "source": [
    "## Code here...create cells as needed.\n",
    "\n",
    "Your script needs to:\n",
    "\n",
    "1. look at the new weekly number,\n",
    "2. compare it to the previous week's number,\n",
    "3. spit out a sentence saying whether the arrest increased or decreased,\n",
    "4. and by what percent and absolute number.\n",
    "\n",
    "\n",
    "Depending on the numbers, it should read something like:\n",
    "\n",
    "```The number of arrests dropped by 40, or by 51 percent, compared to the previous week.```\n",
    "\n",
    "or:\n",
    "\n",
    "```The number of arrests increased by 22, or by 129 percent, compared to the previous week.```\n",
    "\n",
    "\n",
    "\n",
    "\n",
    "\n",
    "You may work in pairs, but **everyone must write their own script**."
   ]
  },
  {
   "cell_type": "markdown",
   "id": "100f27c3",
   "metadata": {},
   "source": [
    "# Step 1: Always start with ```pseudocode```\n",
    "\n"
   ]
  },
  {
   "cell_type": "code",
   "execution_count": 17,
   "id": "0999eac6",
   "metadata": {},
   "outputs": [],
   "source": [
    "### call last number on the list (most recent week's number)\n",
    "recent_week = arrest_dataset[-1]\n",
    "\n",
    "\n",
    "\n",
    "\n",
    "\n",
    "\n",
    "\n",
    "\n",
    "\n",
    "\n",
    "\n",
    "\n"
   ]
  },
  {
   "cell_type": "code",
   "execution_count": 31,
   "id": "26434e35",
   "metadata": {},
   "outputs": [],
   "source": [
    "recent_week = 10"
   ]
  },
  {
   "cell_type": "code",
   "execution_count": 15,
   "id": "102d6198",
   "metadata": {},
   "outputs": [],
   "source": [
    "### call the penultamate number (previous week's number)\n",
    "\n",
    "previous_week = arrest_dataset[-2]"
   ]
  },
  {
   "cell_type": "code",
   "execution_count": 32,
   "id": "d09254be",
   "metadata": {},
   "outputs": [
    {
     "data": {
      "text/plain": [
       "-32"
      ]
     },
     "execution_count": 32,
     "metadata": {},
     "output_type": "execute_result"
    }
   ],
   "source": [
    "## calculate diff\n",
    "\n",
    "difference = recent_week - previous_week\n",
    "difference"
   ]
  },
  {
   "cell_type": "code",
   "execution_count": 22,
   "id": "a333fd20",
   "metadata": {},
   "outputs": [
    {
     "data": {
      "text/plain": [
       "48"
      ]
     },
     "execution_count": 22,
     "metadata": {},
     "output_type": "execute_result"
    }
   ],
   "source": [
    "## calculate diff method 2\n",
    "\n",
    "arrest_dataset[-1] - arrest_dataset[-2]"
   ]
  },
  {
   "cell_type": "code",
   "execution_count": 33,
   "id": "89ff24c1",
   "metadata": {},
   "outputs": [
    {
     "data": {
      "text/plain": [
       "-76.19047619047619"
      ]
     },
     "execution_count": 33,
     "metadata": {},
     "output_type": "execute_result"
    }
   ],
   "source": [
    "### calculate pct change\n",
    "\n",
    "pct_change = (recent_week - previous_week) / previous_week * 100\n",
    "pct_change"
   ]
  },
  {
   "cell_type": "code",
   "execution_count": 34,
   "id": "9c68c0a8",
   "metadata": {},
   "outputs": [
    {
     "name": "stdout",
     "output_type": "stream",
     "text": [
      "Most recent number: 10\n",
      "previous week number: 42\n"
     ]
    }
   ],
   "source": [
    "print(f\"Most recent number: {recent_week}\")\n",
    "print(f\"previous week number: {previous_week}\")"
   ]
  },
  {
   "cell_type": "code",
   "execution_count": 35,
   "id": "1980f556",
   "metadata": {},
   "outputs": [],
   "source": [
    "## apply conditional to see whether to use verb \"increased\" or \"decreased\"\n",
    "\n",
    "\n",
    "if difference > 0:\n",
    "    verb = \"increased by\"\n",
    "elif difference < 0:\n",
    "    verb = \"decreased by\"\n",
    "else:\n",
    "    verb = \"remained the same at\"\n",
    "    \n"
   ]
  },
  {
   "cell_type": "code",
   "execution_count": 36,
   "id": "4ef2968b",
   "metadata": {},
   "outputs": [
    {
     "data": {
      "text/plain": [
       "'decreased by'"
      ]
     },
     "execution_count": 36,
     "metadata": {},
     "output_type": "execute_result"
    }
   ],
   "source": [
    "verb"
   ]
  },
  {
   "cell_type": "code",
   "execution_count": 39,
   "id": "49631a75",
   "metadata": {},
   "outputs": [
    {
     "name": "stdout",
     "output_type": "stream",
     "text": [
      "The number of arrests decreased by 32, or by 76 percent, compared to the previous week.\n"
     ]
    }
   ],
   "source": [
    "## print out required sentence\n",
    "\n",
    "print(f\"The number of arrests {verb} {abs(difference)}, or by {abs(pct_change):.0F} percent, compared to the previous week.\")"
   ]
  },
  {
   "cell_type": "code",
   "execution_count": null,
   "id": "540af0c5",
   "metadata": {},
   "outputs": [],
   "source": []
  }
 ],
 "metadata": {
  "kernelspec": {
   "display_name": "Python 3 (ipykernel)",
   "language": "python",
   "name": "python3"
  },
  "language_info": {
   "codemirror_mode": {
    "name": "ipython",
    "version": 3
   },
   "file_extension": ".py",
   "mimetype": "text/x-python",
   "name": "python",
   "nbconvert_exporter": "python",
   "pygments_lexer": "ipython3",
   "version": "3.9.7"
  }
 },
 "nbformat": 4,
 "nbformat_minor": 5
}
