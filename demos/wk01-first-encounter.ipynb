{
 "cells": [
  {
   "cell_type": "markdown",
   "id": "16f40d3a",
   "metadata": {},
   "source": [
    "# First Demo\n",
    "\n",
    "\n",
    "## Demonstrating how to use jupyter notebooks to spring data 2024.\n",
    "\n",
    "Data for this project was <a href=\"https://data.cityofnewyork.us/Social-Services/311-Service-Requests-from-2010-to-Present/erm2-nwe9/about_data\">collected from 311</a> on jan. 29, 2024.\n",
    "\n",
    "- #### Item one\n",
    "- item 2\n",
    "\n",
    "\n",
    "<img src=\"https://static01.nyt.com/images/2024/01/26/multimedia/00pol-voterconfusion-topart-lpwv/00pol-voterconfusion-topart-lpwv-threeByTwoMediumAt2X-v2.jpg?format=pjpg&quality=75&auto=webp&disable=upscale\">"
   ]
  },
  {
   "cell_type": "code",
   "execution_count": 1,
   "id": "44bf9576",
   "metadata": {},
   "outputs": [
    {
     "name": "stdout",
     "output_type": "stream",
     "text": [
      "Hello World!\n"
     ]
    }
   ],
   "source": [
    "print(\"Hello World!\")"
   ]
  },
  {
   "cell_type": "code",
   "execution_count": 2,
   "id": "002da19f",
   "metadata": {},
   "outputs": [
    {
     "data": {
      "text/plain": [
       "700"
      ]
     },
     "execution_count": 2,
     "metadata": {},
     "output_type": "execute_result"
    }
   ],
   "source": [
    "1200 - 500"
   ]
  },
  {
   "cell_type": "code",
   "execution_count": 3,
   "id": "8c1b74f8",
   "metadata": {},
   "outputs": [
    {
     "data": {
      "text/plain": [
       "1000000"
      ]
     },
     "execution_count": 3,
     "metadata": {},
     "output_type": "execute_result"
    }
   ],
   "source": [
    "1_000_000"
   ]
  },
  {
   "cell_type": "code",
   "execution_count": 4,
   "id": "06f0b260",
   "metadata": {},
   "outputs": [],
   "source": [
    "monthly_income = 1_200"
   ]
  },
  {
   "cell_type": "code",
   "execution_count": 5,
   "id": "9e9042ed",
   "metadata": {},
   "outputs": [
    {
     "data": {
      "text/plain": [
       "1200"
      ]
     },
     "execution_count": 5,
     "metadata": {},
     "output_type": "execute_result"
    }
   ],
   "source": [
    "monthly_income"
   ]
  },
  {
   "cell_type": "code",
   "execution_count": 6,
   "id": "5b0eebd7",
   "metadata": {},
   "outputs": [],
   "source": [
    "monthly_rent = 500"
   ]
  },
  {
   "cell_type": "code",
   "execution_count": 7,
   "id": "f4a7d3b7",
   "metadata": {},
   "outputs": [
    {
     "data": {
      "text/plain": [
       "500"
      ]
     },
     "execution_count": 7,
     "metadata": {},
     "output_type": "execute_result"
    }
   ],
   "source": [
    "monthly_rent"
   ]
  },
  {
   "cell_type": "code",
   "execution_count": 8,
   "id": "6d11855d",
   "metadata": {},
   "outputs": [],
   "source": [
    "balance = monthly_income - monthly_rent"
   ]
  },
  {
   "cell_type": "code",
   "execution_count": 9,
   "id": "f2c8026a",
   "metadata": {},
   "outputs": [
    {
     "data": {
      "text/plain": [
       "700"
      ]
     },
     "execution_count": 9,
     "metadata": {},
     "output_type": "execute_result"
    }
   ],
   "source": [
    "balance"
   ]
  },
  {
   "cell_type": "code",
   "execution_count": 10,
   "id": "c90eb292",
   "metadata": {},
   "outputs": [],
   "source": [
    "food_expense = 300"
   ]
  },
  {
   "cell_type": "code",
   "execution_count": 11,
   "id": "88f674f9",
   "metadata": {},
   "outputs": [
    {
     "data": {
      "text/plain": [
       "400"
      ]
     },
     "execution_count": 11,
     "metadata": {},
     "output_type": "execute_result"
    }
   ],
   "source": [
    "balance = balance - food_expense\n",
    "balance"
   ]
  },
  {
   "cell_type": "markdown",
   "id": "7080f1aa",
   "metadata": {},
   "source": [
    "The balance is just above poverty for "
   ]
  },
  {
   "cell_type": "markdown",
   "id": "e884e2ed",
   "metadata": {},
   "source": []
  },
  {
   "cell_type": "code",
   "execution_count": null,
   "id": "110ae1ea",
   "metadata": {},
   "outputs": [],
   "source": []
  }
 ],
 "metadata": {
  "kernelspec": {
   "display_name": "Python 3 (ipykernel)",
   "language": "python",
   "name": "python3"
  },
  "language_info": {
   "codemirror_mode": {
    "name": "ipython",
    "version": 3
   },
   "file_extension": ".py",
   "mimetype": "text/x-python",
   "name": "python",
   "nbconvert_exporter": "python",
   "pygments_lexer": "ipython3",
   "version": "3.9.7"
  }
 },
 "nbformat": 4,
 "nbformat_minor": 5
}
