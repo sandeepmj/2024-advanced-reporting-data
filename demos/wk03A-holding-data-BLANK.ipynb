{
 "cells": [
  {
   "cell_type": "markdown",
   "id": "5a872b7b",
   "metadata": {
    "id": "5a872b7b"
   },
   "source": [
    "# Holding Data\n",
    "\n",
    "Today's goal is to see how Python holds data.\n",
    "\n",
    "\n",
    "1. Built-in functions\n",
    "2. Data in lists\n",
    "3. Data in dictionaries.\n",
    "4. Built-in functions (or prefabricated code)\n",
    "5. Slicing\n",
    "6. How is this relevant for data journalism?\n"
   ]
  },
  {
   "cell_type": "markdown",
   "id": "78470a43",
   "metadata": {
    "id": "78470a43"
   },
   "source": [
    "## Built-in Functions\n"
   ]
  },
  {
   "cell_type": "markdown",
   "id": "3765042b",
   "metadata": {
    "id": "3765042b"
   },
   "source": [
    "You've encountered a built-in function in ```print()```\n",
    "\n",
    "In simplest terms (good for now), a ```built-in function``` comes as standard part of Python and carries out one or more steps on something we aim it at. What we target for the function goes inside the parenthesis. You've already used a built-in function:\n",
    "\n",
    "```print(\"output something\")```\n",
    "\n",
    "I will introduce others through the course as need. There are <a href=\"https://docs.python.org/3/library/functions.html\">dozens of built-in functions</a>, but I will be introducing the most useful ones little by little.\n"
   ]
  },
  {
   "cell_type": "code",
   "execution_count": null,
   "id": "a3a45f5a",
   "metadata": {},
   "outputs": [],
   "source": [
    "## create a variable called big_number equal to \n",
    "## One hundred seventy-five trillion, four hundred twenty-one million\n"
   ]
  },
  {
   "cell_type": "code",
   "execution_count": null,
   "id": "a3484007",
   "metadata": {
    "colab": {
     "base_uri": "https://localhost:8080/"
    },
    "id": "a3484007",
    "outputId": "f21e1607-0a4b-424b-da41-2f6652282d73"
   },
   "outputs": [],
   "source": [
    "## Knowing what type of object you are working with\n"
   ]
  },
  {
   "cell_type": "code",
   "execution_count": null,
   "id": "c433cece",
   "metadata": {},
   "outputs": [],
   "source": [
    "## write a number worth one and a half called small_number:\n",
    "\n"
   ]
  },
  {
   "cell_type": "code",
   "execution_count": null,
   "id": "xRcbjwFap8jT",
   "metadata": {
    "colab": {
     "base_uri": "https://localhost:8080/"
    },
    "id": "xRcbjwFap8jT",
    "outputId": "cccb2fb5-373b-4637-c9d9-5fc77206a834"
   },
   "outputs": [],
   "source": [
    "## what type is small_number\n"
   ]
  },
  {
   "cell_type": "code",
   "execution_count": null,
   "id": "8CGvoZdmp8Ln",
   "metadata": {
    "colab": {
     "base_uri": "https://localhost:8080/"
    },
    "id": "8CGvoZdmp8Ln",
    "outputId": "23b4f142-34f5-4799-bb27-d21fde25255a"
   },
   "outputs": [],
   "source": [
    "## Create a variable that holds your name\n",
    "\n"
   ]
  },
  {
   "cell_type": "code",
   "execution_count": null,
   "id": "f0ff6810",
   "metadata": {},
   "outputs": [],
   "source": [
    "## what type is it\n"
   ]
  },
  {
   "cell_type": "markdown",
   "id": "0d30f2ae",
   "metadata": {},
   "source": [
    "##### Convert a number into an absolute number using ```abs()```"
   ]
  },
  {
   "cell_type": "code",
   "execution_count": null,
   "id": "bf4c4a85",
   "metadata": {},
   "outputs": [],
   "source": [
    "## create a variable called some_number with a negative value\n",
    "# call it \n"
   ]
  },
  {
   "cell_type": "code",
   "execution_count": null,
   "id": "1ed278b7",
   "metadata": {},
   "outputs": [],
   "source": [
    "## turn it into an absolute number\n"
   ]
  },
  {
   "cell_type": "code",
   "execution_count": null,
   "id": "b36cfba4",
   "metadata": {
    "colab": {
     "base_uri": "https://localhost:8080/"
    },
    "id": "b36cfba4",
    "outputId": "11144d1b-dff9-4ce8-90a8-86c3dcd635e8"
   },
   "outputs": [],
   "source": [
    "## how long is my_name\n"
   ]
  },
  {
   "cell_type": "markdown",
   "id": "e4d0b1f6",
   "metadata": {},
   "source": [
    "### Some built-in functions work on one type of object but not others. It's always important to track what type of object you are working with."
   ]
  },
  {
   "cell_type": "code",
   "execution_count": null,
   "id": "1924e2bb",
   "metadata": {},
   "outputs": [],
   "source": [
    "## how long is big number\n"
   ]
  },
  {
   "cell_type": "code",
   "execution_count": null,
   "id": "e0d4fc31",
   "metadata": {},
   "outputs": [],
   "source": [
    "## how long is small number\n"
   ]
  },
  {
   "cell_type": "markdown",
   "id": "LgIFl8WEm940",
   "metadata": {
    "id": "LgIFl8WEm940"
   },
   "source": [
    "## Lists\n"
   ]
  },
  {
   "cell_type": "markdown",
   "id": "20280995",
   "metadata": {
    "id": "20280995"
   },
   "source": [
    "Lists are the most widely used data containers in Python.\n",
    "\n",
    "- Wrap your data in square brackets ```[]``` to create a list.\n",
    "- A list can hold almost everything in Python:\n",
    "    - numbers\n",
    "    - strings\n",
    "    - other lists\n",
    "    - dictionaries (more on this today)\n",
    "    - booleans (more on this at some point)\n",
    "    - functions (more on this in the next level course)\n",
    "- Lists are mutable (as you can add, remove or change items)."
   ]
  },
  {
   "cell_type": "code",
   "execution_count": null,
   "id": "36d4a226",
   "metadata": {
    "id": "36d4a226"
   },
   "outputs": [],
   "source": [
    "## Build a list called animals that holds a hen, a dog, cat, and horse\n",
    "\n"
   ]
  },
  {
   "cell_type": "code",
   "execution_count": null,
   "id": "a205c8fd",
   "metadata": {
    "colab": {
     "base_uri": "https://localhost:8080/"
    },
    "id": "a205c8fd",
    "outputId": "e6216749-eaf1-4655-9180-da393f9cdd61"
   },
   "outputs": [],
   "source": [
    "## call your list\n"
   ]
  },
  {
   "cell_type": "code",
   "execution_count": null,
   "id": "f57157e3",
   "metadata": {
    "colab": {
     "base_uri": "https://localhost:8080/"
    },
    "id": "f57157e3",
    "outputId": "2d05eede-74c0-4922-c60d-7c27076c3918"
   },
   "outputs": [],
   "source": [
    "## check the type\n"
   ]
  },
  {
   "cell_type": "code",
   "execution_count": null,
   "id": "Uf8goiw2rcbx",
   "metadata": {
    "colab": {
     "base_uri": "https://localhost:8080/"
    },
    "id": "Uf8goiw2rcbx",
    "outputId": "64405f75-47ec-4cfe-ca78-1c9e4aeae293"
   },
   "outputs": [],
   "source": [
    "## how many items in this list\n"
   ]
  },
  {
   "cell_type": "code",
   "execution_count": null,
   "id": "9767d146",
   "metadata": {
    "id": "9767d146"
   },
   "outputs": [],
   "source": [
    "## build a list with strings and numbers (contrived)\n",
    "\n"
   ]
  },
  {
   "cell_type": "code",
   "execution_count": null,
   "id": "1dd80deb",
   "metadata": {
    "colab": {
     "base_uri": "https://localhost:8080/"
    },
    "id": "1dd80deb",
    "outputId": "ffedee15-a770-4aae-bbc9-e78c3c2fe4d6"
   },
   "outputs": [],
   "source": [
    "## call your mixed_list\n"
   ]
  },
  {
   "cell_type": "code",
   "execution_count": null,
   "id": "-TCoE4FglD8X",
   "metadata": {
    "colab": {
     "base_uri": "https://localhost:8080/"
    },
    "id": "-TCoE4FglD8X",
    "outputId": "8d7b4a5c-a73c-4ff6-9b83-5ceccda75a3d"
   },
   "outputs": [],
   "source": [
    "## check the length of your list\n"
   ]
  },
  {
   "cell_type": "markdown",
   "id": "kY_REfyGQTDR",
   "metadata": {
    "id": "kY_REfyGQTDR"
   },
   "source": [
    "### Okay...why do I need to know know about lists?\n"
   ]
  },
  {
   "cell_type": "code",
   "execution_count": null,
   "id": "PXPC_2cHQYF2",
   "metadata": {
    "colab": {
     "base_uri": "https://localhost:8080/"
    },
    "id": "PXPC_2cHQYF2",
    "outputId": "45bc5adf-cb3c-44e1-80ab-65272529c9ce"
   },
   "outputs": [],
   "source": [
    "## recall our animals list\n"
   ]
  },
  {
   "cell_type": "code",
   "execution_count": null,
   "id": "21269566",
   "metadata": {
    "id": "21269566"
   },
   "outputs": [],
   "source": [
    "## run this cell.\n",
    "## we'll spend time in the near future doing this in our sleep\n",
    "## import library\n",
    "import pandas as pd"
   ]
  },
  {
   "cell_type": "code",
   "execution_count": null,
   "id": "-ifjrgfKQep1",
   "metadata": {
    "id": "-ifjrgfKQep1"
   },
   "outputs": [],
   "source": [
    "## run this cell.\n",
    "## we'll spend time in the near future doing this in our sleep\n",
    "df = pd.DataFrame(animals)\n",
    "df.columns = [\"animal\"]\n",
    "df.to_csv(\"animals.csv\", encoding = \"UTF-8\", index = False)"
   ]
  },
  {
   "cell_type": "markdown",
   "id": "GvESurTfmQFH",
   "metadata": {
    "id": "GvESurTfmQFH"
   },
   "source": [
    "## find ```animals.csv``` in your folder.\n",
    "\n"
   ]
  },
  {
   "cell_type": "markdown",
   "id": "Y6JE6sMxnElG",
   "metadata": {
    "id": "Y6JE6sMxnElG"
   },
   "source": [
    "## Dictionaries\n"
   ]
  },
  {
   "cell_type": "markdown",
   "id": "444322af",
   "metadata": {
    "id": "444322af"
   },
   "source": [
    "A Python Dictionary is another common and powerful datatype.\n",
    "\n",
    "Think of it as a collection of data points about a single element."
   ]
  },
  {
   "cell_type": "markdown",
   "id": "9bf6238d",
   "metadata": {
    "id": "9bf6238d"
   },
   "source": [
    "For example, a car model:\n",
    "\n",
    "- brand: Honda\n",
    "- type: SUV\n",
    "- model: CRV\n",
    "- trim: Leather\n",
    "- cost: 40_000\n",
    "- on_sale: True\n",
    "- vin: 2973"
   ]
  },
  {
   "cell_type": "markdown",
   "id": "7c7fc5e1",
   "metadata": {
    "id": "7c7fc5e1"
   },
   "source": [
    "A dictionary would hold this data as **key: value** pairs\n",
    "\n",
    "A dictionary is wrapped in ```{}```.\n",
    "\n",
    "Each key: value pair is separated by a comma.\n",
    "\n",
    "The format is ```{\"key1_string\": \"string_value\", \"key2_number\": 12, \"key3_bolean\": True}```"
   ]
  },
  {
   "cell_type": "code",
   "execution_count": null,
   "id": "4a3efe45",
   "metadata": {
    "id": "4a3efe45"
   },
   "outputs": [],
   "source": [
    "## build the car_1 dictionary\n",
    "\n",
    "\n"
   ]
  },
  {
   "cell_type": "code",
   "execution_count": null,
   "id": "d07255da",
   "metadata": {
    "colab": {
     "base_uri": "https://localhost:8080/"
    },
    "id": "d07255da",
    "outputId": "69a6b0bd-52a3-4432-9311-5281e29f3cd0"
   },
   "outputs": [],
   "source": [
    "## call car_1\n"
   ]
  },
  {
   "cell_type": "code",
   "execution_count": null,
   "id": "1378aa3e",
   "metadata": {
    "colab": {
     "base_uri": "https://localhost:8080/"
    },
    "id": "1378aa3e",
    "outputId": "821bd080-911a-4bf5-f21e-76f3608bf1da"
   },
   "outputs": [],
   "source": [
    "## what car_1's datatype\n"
   ]
  },
  {
   "cell_type": "markdown",
   "id": "bad110a8",
   "metadata": {
    "id": "bad110a8"
   },
   "source": [
    "Build me a dictionary called car_2 with the following data points.\n",
    "\n",
    "Note: In this case the vin is first. The order in a dictionary doesn't matter.\n",
    "\n",
    "- vin: 8303\n",
    "- brand: Honda\n",
    "- type: Sedan\n",
    "- model: CRV\n",
    "- trim: Cloth\n",
    "- cost: 35_000\n",
    "- on sale: no\n"
   ]
  },
  {
   "cell_type": "code",
   "execution_count": null,
   "id": "5bfb98f1",
   "metadata": {
    "id": "5bfb98f1"
   },
   "outputs": [],
   "source": [
    "## build car_2\n"
   ]
  },
  {
   "cell_type": "code",
   "execution_count": null,
   "id": "88fbdecf",
   "metadata": {
    "colab": {
     "base_uri": "https://localhost:8080/"
    },
    "id": "88fbdecf",
    "outputId": "7461839b-191b-4998-8ba5-9066547f4674"
   },
   "outputs": [],
   "source": [
    "## call car_2\n"
   ]
  },
  {
   "cell_type": "markdown",
   "id": "b2cae552",
   "metadata": {
    "id": "b2cae552"
   },
   "source": [
    "### A create a list with these two dictionaries"
   ]
  },
  {
   "cell_type": "code",
   "execution_count": null,
   "id": "969fb2b4",
   "metadata": {
    "id": "969fb2b4"
   },
   "outputs": [],
   "source": [
    "## create a list called honda_cars here\n"
   ]
  },
  {
   "cell_type": "code",
   "execution_count": null,
   "id": "1e6197b3",
   "metadata": {
    "colab": {
     "base_uri": "https://localhost:8080/"
    },
    "id": "1e6197b3",
    "outputId": "c6c89357-32ea-440c-f549-62de7d25d0ba"
   },
   "outputs": [],
   "source": [
    "## call this list\n"
   ]
  },
  {
   "cell_type": "markdown",
   "id": "F6b6yYs5oMG-",
   "metadata": {
    "id": "F6b6yYs5oMG-"
   },
   "source": [
    "### Okay, so what?\n",
    "\n",
    "Why do I need to know about dictionaries?"
   ]
  },
  {
   "cell_type": "code",
   "execution_count": null,
   "id": "89a8c34d",
   "metadata": {
    "id": "89a8c34d"
   },
   "outputs": [],
   "source": [
    "## run this.\n",
    "## we'll spend time in the near future doing this in our sleep\n",
    "df = pd.DataFrame(honda_cars)\n",
    "df.to_csv(\"hondas.csv\", encoding = \"UTF-8\", index = False)"
   ]
  },
  {
   "cell_type": "markdown",
   "id": "ef7f8e32",
   "metadata": {
    "id": "ef7f8e32"
   },
   "source": [
    "### What are relevant journalistic uses for what we covered today?\n"
   ]
  },
  {
   "cell_type": "markdown",
   "id": "a1d05125",
   "metadata": {
    "id": "GvESurTfmQFH"
   },
   "source": [
    "## find ```hondas.csv``` in your folder.\n",
    "\n"
   ]
  },
  {
   "cell_type": "markdown",
   "id": "G7YQT0gOPJ8c",
   "metadata": {
    "id": "G7YQT0gOPJ8c"
   },
   "source": [
    "\n",
    "1. Organizing data points after acquiring or calculating them (creating lists, dictionaries and lists of dictionaries)\n",
    "3. Knowing how many data points we have.\n",
    "5. Understanding the connections between spreadsheets and Python data types"
   ]
  }
 ],
 "metadata": {
  "celltoolbar": "Slideshow",
  "colab": {
   "collapsed_sections": [
    "5a872b7b",
    "f7ff1285",
    "95742489",
    "42b2be9b",
    "jkK1BVoo0kWk",
    "56a57c38",
    "70a3ef57",
    "78470a43",
    "LgIFl8WEm940",
    "kY_REfyGQTDR",
    "GvESurTfmQFH",
    "Y6JE6sMxnElG",
    "b2cae552",
    "F6b6yYs5oMG-",
    "6eb63369",
    "ef7f8e32"
   ],
   "provenance": []
  },
  "kernelspec": {
   "display_name": "Python 3 (ipykernel)",
   "language": "python",
   "name": "python3"
  },
  "language_info": {
   "codemirror_mode": {
    "name": "ipython",
    "version": 3
   },
   "file_extension": ".py",
   "mimetype": "text/x-python",
   "name": "python",
   "nbconvert_exporter": "python",
   "pygments_lexer": "ipython3",
   "version": "3.9.7"
  }
 },
 "nbformat": 4,
 "nbformat_minor": 5
}
