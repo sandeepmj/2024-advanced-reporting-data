{
 "cells": [
  {
   "cell_type": "markdown",
   "metadata": {
    "id": "mZjFwSG0eieb",
    "tags": [
     "1"
    ]
   },
   "source": [
    "# Pandas ```Series``` v. ```DataFrames```\n",
    "\n",
    "Before we can analyze data, we need to learn a few more fundamentals aspects of data in  Pandas.\n",
    "\n",
    "Today, you'll learn to:\n",
    "\n",
    "- differentiate between a Pandas series and dataframe;\n",
    "- slice a dataframe\n",
    "- store a particular value in a dataframe into a variable"
   ]
  },
  {
   "cell_type": "code",
   "execution_count": 3,
   "metadata": {
    "tags": [
     "2"
    ]
   },
   "outputs": [],
   "source": [
    "## import pandas\n"
   ]
  },
  {
   "cell_type": "markdown",
   "metadata": {
    "tags": [
     "3"
    ]
   },
   "source": [
    "## reading urls with ```read_csv()```\n",
    "\n",
    "simply put, you can read urls by running ```pd.read_csv(\"http://some_url.com\")```\n",
    "\n",
    "Try it with <a href=\"https://raw.githubusercontent.com/sandeepmj/datasets/main/diamonds.csv\">this url</a>"
   ]
  }
 ],
 "metadata": {
  "celltoolbar": "Tags",
  "colab": {
   "provenance": []
  },
  "kernelspec": {
   "display_name": "Python 3 (ipykernel)",
   "language": "python",
   "name": "python3"
  },
  "language_info": {
   "codemirror_mode": {
    "name": "ipython",
    "version": 3
   },
   "file_extension": ".py",
   "mimetype": "text/x-python",
   "name": "python",
   "nbconvert_exporter": "python",
   "pygments_lexer": "ipython3",
   "version": "3.9.7"
  }
 },
 "nbformat": 4,
 "nbformat_minor": 4
}
