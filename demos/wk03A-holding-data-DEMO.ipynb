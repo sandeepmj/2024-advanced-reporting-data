{
 "cells": [
  {
   "cell_type": "markdown",
   "id": "5a872b7b",
   "metadata": {
    "id": "5a872b7b"
   },
   "source": [
    "# Holding Data\n",
    "\n",
    "Today's goal is to see how Python holds data.\n",
    "\n",
    "\n",
    "1. Built-in functions\n",
    "2. Data in lists\n",
    "3. Data in dictionaries.\n",
    "4. Built-in functions (or prefabricated code)\n",
    "5. Slicing\n",
    "6. How is this relevant for data journalism?\n"
   ]
  },
  {
   "cell_type": "markdown",
   "id": "78470a43",
   "metadata": {
    "id": "78470a43"
   },
   "source": [
    "## Built-in Functions\n"
   ]
  },
  {
   "cell_type": "markdown",
   "id": "3765042b",
   "metadata": {
    "id": "3765042b"
   },
   "source": [
    "You've encountered a built-in function in ```print()```\n",
    "\n",
    "In simplest terms (good for now), a ```built-in function``` comes as standard part of Python and carries out one or more steps on something we aim it at. What we target for the function goes inside the parenthesis. You've already used a built-in function:\n",
    "\n",
    "```print(\"output something\")```\n",
    "\n",
    "I will introduce others through the course as need. There are <a href=\"https://docs.python.org/3/library/functions.html\">dozens of built-in functions</a>, but I will be introducing the most useful ones little by little.\n"
   ]
  },
  {
   "cell_type": "code",
   "execution_count": 2,
   "id": "a3a45f5a",
   "metadata": {},
   "outputs": [
    {
     "data": {
      "text/plain": [
       "175000421000000"
      ]
     },
     "execution_count": 2,
     "metadata": {},
     "output_type": "execute_result"
    }
   ],
   "source": [
    "## create a variable called big_number equal to \n",
    "## One hundred seventy-five trillion, four hundred twenty-one million\n",
    "big_number = 175_000_421_000_000\n",
    "big_number"
   ]
  },
  {
   "cell_type": "code",
   "execution_count": 3,
   "id": "a3484007",
   "metadata": {
    "colab": {
     "base_uri": "https://localhost:8080/"
    },
    "id": "a3484007",
    "outputId": "f21e1607-0a4b-424b-da41-2f6652282d73"
   },
   "outputs": [
    {
     "data": {
      "text/plain": [
       "int"
      ]
     },
     "execution_count": 3,
     "metadata": {},
     "output_type": "execute_result"
    }
   ],
   "source": [
    "## Knowing what type of object you are working with\n",
    "type(big_number)"
   ]
  },
  {
   "cell_type": "code",
   "execution_count": 4,
   "id": "c433cece",
   "metadata": {},
   "outputs": [
    {
     "data": {
      "text/plain": [
       "1.5"
      ]
     },
     "execution_count": 4,
     "metadata": {},
     "output_type": "execute_result"
    }
   ],
   "source": [
    "## write a number worth one and a half called small_number:\n",
    "small_number = 1.5\n",
    "small_number\n"
   ]
  },
  {
   "cell_type": "code",
   "execution_count": 5,
   "id": "xRcbjwFap8jT",
   "metadata": {
    "colab": {
     "base_uri": "https://localhost:8080/"
    },
    "id": "xRcbjwFap8jT",
    "outputId": "cccb2fb5-373b-4637-c9d9-5fc77206a834"
   },
   "outputs": [
    {
     "data": {
      "text/plain": [
       "float"
      ]
     },
     "execution_count": 5,
     "metadata": {},
     "output_type": "execute_result"
    }
   ],
   "source": [
    "## what type is small_number\n",
    "type(1.5)"
   ]
  },
  {
   "cell_type": "code",
   "execution_count": 6,
   "id": "8CGvoZdmp8Ln",
   "metadata": {
    "colab": {
     "base_uri": "https://localhost:8080/"
    },
    "id": "8CGvoZdmp8Ln",
    "outputId": "23b4f142-34f5-4799-bb27-d21fde25255a"
   },
   "outputs": [
    {
     "data": {
      "text/plain": [
       "'Sandeep'"
      ]
     },
     "execution_count": 6,
     "metadata": {},
     "output_type": "execute_result"
    }
   ],
   "source": [
    "## Create a variable that holds your name\n",
    "my_name = \"Sandeep\"\n",
    "my_name"
   ]
  },
  {
   "cell_type": "code",
   "execution_count": 7,
   "id": "f0ff6810",
   "metadata": {},
   "outputs": [
    {
     "data": {
      "text/plain": [
       "str"
      ]
     },
     "execution_count": 7,
     "metadata": {},
     "output_type": "execute_result"
    }
   ],
   "source": [
    "## what type is it\n",
    "type(my_name)"
   ]
  },
  {
   "cell_type": "code",
   "execution_count": 8,
   "id": "fd639bc6",
   "metadata": {},
   "outputs": [
    {
     "data": {
      "text/plain": [
       "'123'"
      ]
     },
     "execution_count": 8,
     "metadata": {},
     "output_type": "execute_result"
    }
   ],
   "source": [
    "a_number = \"123\"\n",
    "a_number"
   ]
  },
  {
   "cell_type": "code",
   "execution_count": 9,
   "id": "f5d666f0",
   "metadata": {},
   "outputs": [
    {
     "data": {
      "text/plain": [
       "str"
      ]
     },
     "execution_count": 9,
     "metadata": {},
     "output_type": "execute_result"
    }
   ],
   "source": [
    "type(a_number)"
   ]
  },
  {
   "cell_type": "markdown",
   "id": "0d30f2ae",
   "metadata": {},
   "source": [
    "##### Convert a number into an absolute number using ```abs()```"
   ]
  },
  {
   "cell_type": "code",
   "execution_count": 10,
   "id": "bf4c4a85",
   "metadata": {},
   "outputs": [
    {
     "data": {
      "text/plain": [
       "-52"
      ]
     },
     "execution_count": 10,
     "metadata": {},
     "output_type": "execute_result"
    }
   ],
   "source": [
    "## create a variable called some_number with a negative value\n",
    "# call it \n",
    "some_number = -52\n",
    "some_number"
   ]
  },
  {
   "cell_type": "code",
   "execution_count": 11,
   "id": "1ed278b7",
   "metadata": {},
   "outputs": [
    {
     "data": {
      "text/plain": [
       "52"
      ]
     },
     "execution_count": 11,
     "metadata": {},
     "output_type": "execute_result"
    }
   ],
   "source": [
    "## turn it into an absolute number\n",
    "abs(some_number)"
   ]
  },
  {
   "cell_type": "code",
   "execution_count": 12,
   "id": "b36cfba4",
   "metadata": {
    "colab": {
     "base_uri": "https://localhost:8080/"
    },
    "id": "b36cfba4",
    "outputId": "11144d1b-dff9-4ce8-90a8-86c3dcd635e8"
   },
   "outputs": [
    {
     "data": {
      "text/plain": [
       "7"
      ]
     },
     "execution_count": 12,
     "metadata": {},
     "output_type": "execute_result"
    }
   ],
   "source": [
    "## how long is my_name\n",
    "len(my_name)"
   ]
  },
  {
   "cell_type": "markdown",
   "id": "e4d0b1f6",
   "metadata": {},
   "source": [
    "### Some built-in functions work on one type of object but not others. It's always important to track what type of object you are working with."
   ]
  },
  {
   "cell_type": "code",
   "execution_count": 13,
   "id": "1924e2bb",
   "metadata": {},
   "outputs": [
    {
     "ename": "TypeError",
     "evalue": "object of type 'int' has no len()",
     "output_type": "error",
     "traceback": [
      "\u001b[0;31m---------------------------------------------------------------------------\u001b[0m",
      "\u001b[0;31mTypeError\u001b[0m                                 Traceback (most recent call last)",
      "Cell \u001b[0;32mIn[13], line 2\u001b[0m\n\u001b[1;32m      1\u001b[0m \u001b[38;5;66;03m## how long is big number\u001b[39;00m\n\u001b[0;32m----> 2\u001b[0m \u001b[38;5;28;43mlen\u001b[39;49m\u001b[43m(\u001b[49m\u001b[43mbig_number\u001b[49m\u001b[43m)\u001b[49m\n",
      "\u001b[0;31mTypeError\u001b[0m: object of type 'int' has no len()"
     ]
    }
   ],
   "source": [
    "## how long is big number\n",
    "len(big_number)"
   ]
  },
  {
   "cell_type": "code",
   "execution_count": 14,
   "id": "e0d4fc31",
   "metadata": {},
   "outputs": [
    {
     "ename": "TypeError",
     "evalue": "object of type 'float' has no len()",
     "output_type": "error",
     "traceback": [
      "\u001b[0;31m---------------------------------------------------------------------------\u001b[0m",
      "\u001b[0;31mTypeError\u001b[0m                                 Traceback (most recent call last)",
      "Cell \u001b[0;32mIn[14], line 2\u001b[0m\n\u001b[1;32m      1\u001b[0m \u001b[38;5;66;03m## how long is small number\u001b[39;00m\n\u001b[0;32m----> 2\u001b[0m \u001b[38;5;28;43mlen\u001b[39;49m\u001b[43m(\u001b[49m\u001b[43msmall_number\u001b[49m\u001b[43m)\u001b[49m\n",
      "\u001b[0;31mTypeError\u001b[0m: object of type 'float' has no len()"
     ]
    }
   ],
   "source": [
    "## how long is small number\n",
    "len(small_number)"
   ]
  },
  {
   "cell_type": "markdown",
   "id": "LgIFl8WEm940",
   "metadata": {
    "id": "LgIFl8WEm940"
   },
   "source": [
    "## Lists\n"
   ]
  },
  {
   "cell_type": "markdown",
   "id": "20280995",
   "metadata": {
    "id": "20280995"
   },
   "source": [
    "Lists are the most widely used data containers in Python.\n",
    "\n",
    "- Wrap your data in square brackets ```[]``` to create a list.\n",
    "- A list can hold almost everything in Python:\n",
    "    - numbers\n",
    "    - strings\n",
    "    - other lists\n",
    "    - dictionaries (more on this today)\n",
    "    - booleans (more on this at some point)\n",
    "    - functions (more on this in the next level course)\n",
    "- Lists are mutable (as you can add, remove or change items)."
   ]
  },
  {
   "cell_type": "code",
   "execution_count": 15,
   "id": "36d4a226",
   "metadata": {
    "id": "36d4a226"
   },
   "outputs": [],
   "source": [
    "## Build a list called animals that holds a hen, a dog, cat, and horse\n",
    "\n",
    "animals = [\"hen\", \"dog\", \"cat\", \"horse\"]"
   ]
  },
  {
   "cell_type": "code",
   "execution_count": 16,
   "id": "a205c8fd",
   "metadata": {
    "colab": {
     "base_uri": "https://localhost:8080/"
    },
    "id": "a205c8fd",
    "outputId": "e6216749-eaf1-4655-9180-da393f9cdd61"
   },
   "outputs": [
    {
     "data": {
      "text/plain": [
       "['hen', 'dog', 'cat', 'horse']"
      ]
     },
     "execution_count": 16,
     "metadata": {},
     "output_type": "execute_result"
    }
   ],
   "source": [
    "## call your list\n",
    "animals"
   ]
  },
  {
   "cell_type": "code",
   "execution_count": 17,
   "id": "f57157e3",
   "metadata": {
    "colab": {
     "base_uri": "https://localhost:8080/"
    },
    "id": "f57157e3",
    "outputId": "2d05eede-74c0-4922-c60d-7c27076c3918"
   },
   "outputs": [
    {
     "data": {
      "text/plain": [
       "list"
      ]
     },
     "execution_count": 17,
     "metadata": {},
     "output_type": "execute_result"
    }
   ],
   "source": [
    "## check the type\n",
    "type(animals)"
   ]
  },
  {
   "cell_type": "code",
   "execution_count": 18,
   "id": "Uf8goiw2rcbx",
   "metadata": {
    "colab": {
     "base_uri": "https://localhost:8080/"
    },
    "id": "Uf8goiw2rcbx",
    "outputId": "64405f75-47ec-4cfe-ca78-1c9e4aeae293"
   },
   "outputs": [
    {
     "data": {
      "text/plain": [
       "4"
      ]
     },
     "execution_count": 18,
     "metadata": {},
     "output_type": "execute_result"
    }
   ],
   "source": [
    "## how many items in this list\n",
    "len(animals)"
   ]
  },
  {
   "cell_type": "code",
   "execution_count": 19,
   "id": "9767d146",
   "metadata": {
    "id": "9767d146"
   },
   "outputs": [],
   "source": [
    "## build a list with strings and numbers (contrived)\n",
    "\n",
    "mixed_list = [1, \"5\", \"sandeep\", True, False, [\"berries\", \"bananas\"]]"
   ]
  },
  {
   "cell_type": "code",
   "execution_count": 20,
   "id": "1dd80deb",
   "metadata": {
    "colab": {
     "base_uri": "https://localhost:8080/"
    },
    "id": "1dd80deb",
    "outputId": "ffedee15-a770-4aae-bbc9-e78c3c2fe4d6"
   },
   "outputs": [
    {
     "data": {
      "text/plain": [
       "[1, '5', 'sandeep', True, False, ['berries', 'bananas']]"
      ]
     },
     "execution_count": 20,
     "metadata": {},
     "output_type": "execute_result"
    }
   ],
   "source": [
    "## call your mixed_list\n",
    "mixed_list"
   ]
  },
  {
   "cell_type": "code",
   "execution_count": 21,
   "id": "-TCoE4FglD8X",
   "metadata": {
    "colab": {
     "base_uri": "https://localhost:8080/"
    },
    "id": "-TCoE4FglD8X",
    "outputId": "8d7b4a5c-a73c-4ff6-9b83-5ceccda75a3d"
   },
   "outputs": [
    {
     "data": {
      "text/plain": [
       "6"
      ]
     },
     "execution_count": 21,
     "metadata": {},
     "output_type": "execute_result"
    }
   ],
   "source": [
    "## check the length of your list\n",
    "len(mixed_list)"
   ]
  },
  {
   "cell_type": "markdown",
   "id": "kY_REfyGQTDR",
   "metadata": {
    "id": "kY_REfyGQTDR"
   },
   "source": [
    "### Okay...why do I need to know know about lists?\n"
   ]
  },
  {
   "cell_type": "code",
   "execution_count": 22,
   "id": "PXPC_2cHQYF2",
   "metadata": {
    "colab": {
     "base_uri": "https://localhost:8080/"
    },
    "id": "PXPC_2cHQYF2",
    "outputId": "45bc5adf-cb3c-44e1-80ab-65272529c9ce"
   },
   "outputs": [
    {
     "data": {
      "text/plain": [
       "['hen', 'dog', 'cat', 'horse']"
      ]
     },
     "execution_count": 22,
     "metadata": {},
     "output_type": "execute_result"
    }
   ],
   "source": [
    "## recall our animals list\n",
    "animals"
   ]
  },
  {
   "cell_type": "code",
   "execution_count": 23,
   "id": "21269566",
   "metadata": {
    "id": "21269566"
   },
   "outputs": [],
   "source": [
    "## run this cell.\n",
    "## we'll spend time in the near future doing this in our sleep\n",
    "## import library\n",
    "import pandas as pd"
   ]
  },
  {
   "cell_type": "code",
   "execution_count": 24,
   "id": "-ifjrgfKQep1",
   "metadata": {
    "id": "-ifjrgfKQep1"
   },
   "outputs": [],
   "source": [
    "## run this cell.\n",
    "## we'll spend time in the near future doing this in our sleep\n",
    "df = pd.DataFrame(animals)\n",
    "df.columns = [\"animal\"]\n",
    "df.to_csv(\"animals.csv\", encoding = \"UTF-8\", index = False)"
   ]
  },
  {
   "cell_type": "markdown",
   "id": "GvESurTfmQFH",
   "metadata": {
    "id": "GvESurTfmQFH"
   },
   "source": [
    "## find ```animals.csv``` in your folder.\n",
    "\n"
   ]
  },
  {
   "cell_type": "markdown",
   "id": "Y6JE6sMxnElG",
   "metadata": {
    "id": "Y6JE6sMxnElG"
   },
   "source": [
    "## Dictionaries\n"
   ]
  },
  {
   "cell_type": "markdown",
   "id": "444322af",
   "metadata": {
    "id": "444322af"
   },
   "source": [
    "A Python Dictionary is another common and powerful datatype.\n",
    "\n",
    "Think of it as a collection of data points about a single element."
   ]
  },
  {
   "cell_type": "markdown",
   "id": "9bf6238d",
   "metadata": {
    "id": "9bf6238d"
   },
   "source": [
    "For example, a car model:\n",
    "\n",
    "- brand: Honda\n",
    "- type: SUV\n",
    "- model: CRV\n",
    "- trim: Leather\n",
    "- cost: 40_000\n",
    "- on_sale: True\n",
    "- vin: 2973"
   ]
  },
  {
   "cell_type": "markdown",
   "id": "7c7fc5e1",
   "metadata": {
    "id": "7c7fc5e1"
   },
   "source": [
    "A dictionary would hold this data as **key: value** pairs\n",
    "\n",
    "A dictionary is wrapped in ```{}```.\n",
    "\n",
    "Each key: value pair is separated by a comma.\n",
    "\n",
    "The format is ```{\"key1_string\": \"string_value\", \"key2_number\": 12, \"key3_bolean\": True}```"
   ]
  },
  {
   "cell_type": "code",
   "execution_count": 25,
   "id": "4a3efe45",
   "metadata": {
    "id": "4a3efe45"
   },
   "outputs": [],
   "source": [
    "## build the car_1 dictionary\n",
    "\n",
    "car_1 = {\"brand\": \"Honda\",\n",
    "         \"type\": \"SUV\",\n",
    "         \"model\": \"CRV\",\n",
    "         \"trim\": \"Leather\",\n",
    "         \"cost\": 40_000,\n",
    "         \"on_sale\": True,\n",
    "         \"vin\": 2973}\n"
   ]
  },
  {
   "cell_type": "code",
   "execution_count": 26,
   "id": "d07255da",
   "metadata": {
    "colab": {
     "base_uri": "https://localhost:8080/"
    },
    "id": "d07255da",
    "outputId": "69a6b0bd-52a3-4432-9311-5281e29f3cd0"
   },
   "outputs": [
    {
     "data": {
      "text/plain": [
       "{'brand': 'Honda',\n",
       " 'type': 'SUV',\n",
       " 'model': 'CRV',\n",
       " 'trim': 'Leather',\n",
       " 'cost': 40000,\n",
       " 'on_sale': True,\n",
       " 'vin': 2973}"
      ]
     },
     "execution_count": 26,
     "metadata": {},
     "output_type": "execute_result"
    }
   ],
   "source": [
    "## call car_1\n",
    "car_1"
   ]
  },
  {
   "cell_type": "code",
   "execution_count": 27,
   "id": "1378aa3e",
   "metadata": {
    "colab": {
     "base_uri": "https://localhost:8080/"
    },
    "id": "1378aa3e",
    "outputId": "821bd080-911a-4bf5-f21e-76f3608bf1da"
   },
   "outputs": [
    {
     "data": {
      "text/plain": [
       "dict"
      ]
     },
     "execution_count": 27,
     "metadata": {},
     "output_type": "execute_result"
    }
   ],
   "source": [
    "## what car_1's datatype\n",
    "type(car_1)"
   ]
  },
  {
   "cell_type": "markdown",
   "id": "bad110a8",
   "metadata": {
    "id": "bad110a8"
   },
   "source": [
    "Build me a dictionary called car_2 with the following data points.\n",
    "\n",
    "Note: In this case the vin is first. The order in a dictionary doesn't matter.\n",
    "\n",
    "- vin: 8303\n",
    "- brand: Honda\n",
    "- type: Sedan\n",
    "- model: Accord\n",
    "- trim: Cloth\n",
    "- cost: 35_000\n",
    "- on sale: no\n"
   ]
  },
  {
   "cell_type": "code",
   "execution_count": 35,
   "id": "5bfb98f1",
   "metadata": {
    "id": "5bfb98f1"
   },
   "outputs": [],
   "source": [
    "## build car_2\n",
    "car_2 = {\n",
    "    \"vin\": 8303,\n",
    "    \"brand\": \"Honda\",\n",
    "    \"type\": \"Sedan\",\n",
    "    \"model\": \"Accord\",\n",
    "    \"trim\": \"Cloth\",\n",
    "    \"cost\": 35_000,\n",
    "    \"on_sale\": False,\n",
    "    \"weight\": 2_200\n",
    "}"
   ]
  },
  {
   "cell_type": "code",
   "execution_count": 31,
   "id": "88fbdecf",
   "metadata": {
    "colab": {
     "base_uri": "https://localhost:8080/"
    },
    "id": "88fbdecf",
    "outputId": "7461839b-191b-4998-8ba5-9066547f4674"
   },
   "outputs": [
    {
     "data": {
      "text/plain": [
       "{'vin': 8303,\n",
       " 'brand': 'Honda',\n",
       " 'type': 'Sedan',\n",
       " 'model': 'Accord',\n",
       " 'trim': 'Cloth',\n",
       " 'cost': 35000,\n",
       " 'on_sale': False}"
      ]
     },
     "execution_count": 31,
     "metadata": {},
     "output_type": "execute_result"
    }
   ],
   "source": [
    "## call car_2\n",
    "car_2"
   ]
  },
  {
   "cell_type": "markdown",
   "id": "b2cae552",
   "metadata": {
    "id": "b2cae552"
   },
   "source": [
    "### A create a list with these two dictionaries"
   ]
  },
  {
   "cell_type": "code",
   "execution_count": 36,
   "id": "969fb2b4",
   "metadata": {
    "id": "969fb2b4"
   },
   "outputs": [],
   "source": [
    "## create a list called honda_cars here\n",
    "honda_cars = [car_1, car_2]"
   ]
  },
  {
   "cell_type": "code",
   "execution_count": 37,
   "id": "1e6197b3",
   "metadata": {
    "colab": {
     "base_uri": "https://localhost:8080/"
    },
    "id": "1e6197b3",
    "outputId": "c6c89357-32ea-440c-f549-62de7d25d0ba"
   },
   "outputs": [
    {
     "data": {
      "text/plain": [
       "[{'brand': 'Honda',\n",
       "  'type': 'SUV',\n",
       "  'model': 'CRV',\n",
       "  'trim': 'Leather',\n",
       "  'cost': 40000,\n",
       "  'on_sale': True,\n",
       "  'vin': 2973},\n",
       " {'vin': 8303,\n",
       "  'brand': 'Honda',\n",
       "  'type': 'Sedan',\n",
       "  'model': 'Accord',\n",
       "  'trim': 'Cloth',\n",
       "  'cost': 35000,\n",
       "  'on_sale': False,\n",
       "  'weight': 2200}]"
      ]
     },
     "execution_count": 37,
     "metadata": {},
     "output_type": "execute_result"
    }
   ],
   "source": [
    "## call this list\n",
    "honda_cars"
   ]
  },
  {
   "cell_type": "markdown",
   "id": "F6b6yYs5oMG-",
   "metadata": {
    "id": "F6b6yYs5oMG-"
   },
   "source": [
    "### Okay, so what?\n",
    "\n",
    "Why do I need to know about dictionaries?"
   ]
  },
  {
   "cell_type": "code",
   "execution_count": 38,
   "id": "89a8c34d",
   "metadata": {
    "id": "89a8c34d"
   },
   "outputs": [],
   "source": [
    "## run this.\n",
    "## we'll spend time in the near future doing this in our sleep\n",
    "df = pd.DataFrame(honda_cars)\n",
    "df.to_csv(\"hondas1.csv\", encoding = \"UTF-8\", index = False)"
   ]
  },
  {
   "cell_type": "markdown",
   "id": "ef7f8e32",
   "metadata": {
    "id": "ef7f8e32"
   },
   "source": [
    "### What are relevant journalistic uses for what we covered today?\n"
   ]
  },
  {
   "cell_type": "markdown",
   "id": "a1d05125",
   "metadata": {
    "id": "GvESurTfmQFH"
   },
   "source": [
    "## find ```hondas.csv``` in your folder.\n",
    "\n"
   ]
  },
  {
   "cell_type": "markdown",
   "id": "G7YQT0gOPJ8c",
   "metadata": {
    "id": "G7YQT0gOPJ8c"
   },
   "source": [
    "\n",
    "1. Organizing data points after acquiring or calculating them (creating lists, dictionaries and lists of dictionaries)\n",
    "3. Knowing how many data points we have.\n",
    "5. Understanding the connections between spreadsheets and Python data types"
   ]
  }
 ],
 "metadata": {
  "celltoolbar": "Slideshow",
  "colab": {
   "collapsed_sections": [
    "5a872b7b",
    "f7ff1285",
    "95742489",
    "42b2be9b",
    "jkK1BVoo0kWk",
    "56a57c38",
    "70a3ef57",
    "78470a43",
    "LgIFl8WEm940",
    "kY_REfyGQTDR",
    "GvESurTfmQFH",
    "Y6JE6sMxnElG",
    "b2cae552",
    "F6b6yYs5oMG-",
    "6eb63369",
    "ef7f8e32"
   ],
   "provenance": []
  },
  "kernelspec": {
   "display_name": "Python 3 (ipykernel)",
   "language": "python",
   "name": "python3"
  },
  "language_info": {
   "codemirror_mode": {
    "name": "ipython",
    "version": 3
   },
   "file_extension": ".py",
   "mimetype": "text/x-python",
   "name": "python",
   "nbconvert_exporter": "python",
   "pygments_lexer": "ipython3",
   "version": "3.9.7"
  }
 },
 "nbformat": 4,
 "nbformat_minor": 5
}
