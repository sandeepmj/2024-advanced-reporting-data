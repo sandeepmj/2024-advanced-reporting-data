{
 "cells": [
  {
   "cell_type": "markdown",
   "id": "8e4b29fd",
   "metadata": {},
   "source": [
    "# Conditional Challenge\n",
    "\n",
    "You are on the justice beat in some large city. The police department release weekly arrest numbers every Monday.\n",
    "\n",
    "You decide to use your Python superpowers to write a script that automatically:\n",
    "\n",
    "1. looks at the new weekly number,\n",
    "2. compares it to the previous week's number,\n",
    "3. spits out a sentence saying whether the arrest increased or decreased,\n",
    "4. and by what percent and absolute number.\n",
    "\n",
    "Depending on the numbers, it should read something like:\n",
    "\n",
    "```The number of arrests dropped by 40, or by 51 percent, compared to the previous week.```\n",
    "\n",
    "or:\n",
    "\n",
    "```The number of arrests increased by 22, or by 129 percent, compared to the previous week.```\n",
    "\n",
    "\n",
    "\n",
    "You may work in pairs, but **everyone must write their own script**."
   ]
  },
  {
   "cell_type": "markdown",
   "id": "a0720d96",
   "metadata": {},
   "source": [
    "## Creating our mock data\n",
    "\n",
    "The following cells will create random numbers and place them in a list.\n",
    "\n",
    "You will be asked for a \"```seed```\" number which basically allows us to all create the same \"random\" numbers. \n",
    "\n",
    "You'll be asked for a seed twice: once for the longer arrests dataset, and once for the most recent week's arrest number.\n",
    "\n",
    "Just run these next few cells:"
   ]
  },
  {
   "cell_type": "code",
   "execution_count": 17,
   "id": "8955b266",
   "metadata": {},
   "outputs": [],
   "source": [
    "## import random to create random numbers\n",
    "import random"
   ]
  },
  {
   "cell_type": "code",
   "execution_count": 18,
   "id": "137e14b4",
   "metadata": {},
   "outputs": [
    {
     "name": "stdout",
     "output_type": "stream",
     "text": [
      "Enter a seed number (make sure it is the same one as the entire classroom) \n"
     ]
    }
   ],
   "source": [
    "## ask for a seed number to keep all the random numbers the same for all of us\n",
    "seed_number =\\\n",
    "input(\"Enter a seed number (make sure it is the same one as the entire classroom) \")"
   ]
  },
  {
   "cell_type": "code",
   "execution_count": 19,
   "id": "aae52c01",
   "metadata": {},
   "outputs": [
    {
     "name": "stdout",
     "output_type": "stream",
     "text": [
      "[59, 77, 27, 50, 94, 97, 29, 44, 100, 80, 1, 77, 81, 42, 47, 7, 59, 50, 40, 25]\n"
     ]
    }
   ],
   "source": [
    "# Set the seed to ensure repeatability\n",
    "random.seed(seed_number)  \n",
    "\n",
    "# Generate a list of 20 random numbers (for example, between 1 and 100)\n",
    "arrest_dataset = [random.randint(1, 100) for _ in range(20)]\n",
    "\n",
    "print(arrest_dataset)\n",
    "\n",
    "## NOTE: The last number in the list is the most recent week."
   ]
  },
  {
   "cell_type": "code",
   "execution_count": 20,
   "id": "b072b7d3",
   "metadata": {},
   "outputs": [
    {
     "name": "stdout",
     "output_type": "stream",
     "text": [
      "Enter a seed number (make sure it is the same one as the entire classroom) \n",
      "[59, 77, 27, 50, 94, 97, 29, 44, 100, 80, 1, 77, 81, 42, 47, 7, 59, 50, 40, 25, 59]\n"
     ]
    }
   ],
   "source": [
    "## Now generate a single arrest number for the most recent week\n",
    "## APPEND it to the previous list\n",
    "\n",
    "## ask for a seed number to keep all the random numbers the same for all of us\n",
    "weekly_seed =\\\n",
    "input(\"Enter a seed number (make sure it is the same one as the entire classroom) \")\n",
    "\n",
    "random.seed(weekly_seed)  # You can use any number as the seed\n",
    "\n",
    "# Generate a single random number (for example, between 1 and 100)\n",
    "weekly_arrest_number = random.randint(1, 100)\n",
    "\n",
    "arrest_dataset.append(weekly_arrest_number)\n",
    "print(arrest_dataset)"
   ]
  },
  {
   "cell_type": "markdown",
   "id": "6e651f74",
   "metadata": {},
   "source": [
    "## Code here...create cells as needed.\n",
    "\n",
    "Your script needs to:\n",
    "\n",
    "1. look at the new weekly number,\n",
    "2. compare it to the previous week's number,\n",
    "3. spit out a sentence saying whether the arrest increased or decreased,\n",
    "4. and by what percent and absolute number.\n",
    "\n",
    "\n",
    "Depending on the numbers, it should read something like:\n",
    "\n",
    "```The number of arrests dropped by 40, or by 51 percent, compared to the previous week.```\n",
    "\n",
    "or:\n",
    "\n",
    "```The number of arrests increased by 22, or by 129 percent, compared to the previous week.```\n",
    "\n",
    "\n",
    "\n",
    "You may work in pairs, but **everyone must write their own script**."
   ]
  },
  {
   "cell_type": "markdown",
   "id": "100f27c3",
   "metadata": {},
   "source": [
    "# Step 1: Always start with ```pseudocode```\n",
    "\n"
   ]
  },
  {
   "cell_type": "code",
   "execution_count": null,
   "id": "0999eac6",
   "metadata": {},
   "outputs": [],
   "source": []
  }
 ],
 "metadata": {
  "kernelspec": {
   "display_name": "Python 3 (ipykernel)",
   "language": "python",
   "name": "python3"
  },
  "language_info": {
   "codemirror_mode": {
    "name": "ipython",
    "version": 3
   },
   "file_extension": ".py",
   "mimetype": "text/x-python",
   "name": "python",
   "nbconvert_exporter": "python",
   "pygments_lexer": "ipython3",
   "version": "3.9.7"
  }
 },
 "nbformat": 4,
 "nbformat_minor": 5
}
